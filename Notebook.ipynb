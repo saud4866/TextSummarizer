{
  "nbformat": 4,
  "nbformat_minor": 0,
  "metadata": {
    "colab": {
      "provenance": [],
      "gpuType": "A100"
    },
    "kernelspec": {
      "name": "python3",
      "display_name": "Python 3"
    },
    "language_info": {
      "name": "python"
    },
    "accelerator": "GPU",
    "widgets": {
      "application/vnd.jupyter.widget-state+json": {
        "8049c8f3416043f387835adc3adf9a76": {
          "model_module": "@jupyter-widgets/controls",
          "model_name": "HBoxModel",
          "model_module_version": "1.5.0",
          "state": {
            "_dom_classes": [],
            "_model_module": "@jupyter-widgets/controls",
            "_model_module_version": "1.5.0",
            "_model_name": "HBoxModel",
            "_view_count": null,
            "_view_module": "@jupyter-widgets/controls",
            "_view_module_version": "1.5.0",
            "_view_name": "HBoxView",
            "box_style": "",
            "children": [
              "IPY_MODEL_1ea5ec07d9cd4516bd85398c7df0e4b3",
              "IPY_MODEL_14c1ed945cac471fb0e8164395e5e728",
              "IPY_MODEL_bb0e0e5508ed4ca5b2de831e8ac2fddd"
            ],
            "layout": "IPY_MODEL_90717df507bb452eadb3866da3dcc36d"
          }
        },
        "1ea5ec07d9cd4516bd85398c7df0e4b3": {
          "model_module": "@jupyter-widgets/controls",
          "model_name": "HTMLModel",
          "model_module_version": "1.5.0",
          "state": {
            "_dom_classes": [],
            "_model_module": "@jupyter-widgets/controls",
            "_model_module_version": "1.5.0",
            "_model_name": "HTMLModel",
            "_view_count": null,
            "_view_module": "@jupyter-widgets/controls",
            "_view_module_version": "1.5.0",
            "_view_name": "HTMLView",
            "description": "",
            "description_tooltip": null,
            "layout": "IPY_MODEL_a9525e46bfa3413dbf1ea3d575d5904f",
            "placeholder": "​",
            "style": "IPY_MODEL_502259d0e0884b76a162c3350e40b111",
            "value": "Map: 100%"
          }
        },
        "14c1ed945cac471fb0e8164395e5e728": {
          "model_module": "@jupyter-widgets/controls",
          "model_name": "FloatProgressModel",
          "model_module_version": "1.5.0",
          "state": {
            "_dom_classes": [],
            "_model_module": "@jupyter-widgets/controls",
            "_model_module_version": "1.5.0",
            "_model_name": "FloatProgressModel",
            "_view_count": null,
            "_view_module": "@jupyter-widgets/controls",
            "_view_module_version": "1.5.0",
            "_view_name": "ProgressView",
            "bar_style": "success",
            "description": "",
            "description_tooltip": null,
            "layout": "IPY_MODEL_d8f4754498ec43c5a206695a13285817",
            "max": 5000,
            "min": 0,
            "orientation": "horizontal",
            "style": "IPY_MODEL_0e1023ce71eb49e99e6c4f8d562b5eed",
            "value": 5000
          }
        },
        "bb0e0e5508ed4ca5b2de831e8ac2fddd": {
          "model_module": "@jupyter-widgets/controls",
          "model_name": "HTMLModel",
          "model_module_version": "1.5.0",
          "state": {
            "_dom_classes": [],
            "_model_module": "@jupyter-widgets/controls",
            "_model_module_version": "1.5.0",
            "_model_name": "HTMLModel",
            "_view_count": null,
            "_view_module": "@jupyter-widgets/controls",
            "_view_module_version": "1.5.0",
            "_view_name": "HTMLView",
            "description": "",
            "description_tooltip": null,
            "layout": "IPY_MODEL_be84b95a8aa246079f42c666a6aa98f4",
            "placeholder": "​",
            "style": "IPY_MODEL_56d46e25738e42e1850fa4722d1f7053",
            "value": " 5000/5000 [00:21&lt;00:00, 231.55 examples/s]"
          }
        },
        "90717df507bb452eadb3866da3dcc36d": {
          "model_module": "@jupyter-widgets/base",
          "model_name": "LayoutModel",
          "model_module_version": "1.2.0",
          "state": {
            "_model_module": "@jupyter-widgets/base",
            "_model_module_version": "1.2.0",
            "_model_name": "LayoutModel",
            "_view_count": null,
            "_view_module": "@jupyter-widgets/base",
            "_view_module_version": "1.2.0",
            "_view_name": "LayoutView",
            "align_content": null,
            "align_items": null,
            "align_self": null,
            "border": null,
            "bottom": null,
            "display": null,
            "flex": null,
            "flex_flow": null,
            "grid_area": null,
            "grid_auto_columns": null,
            "grid_auto_flow": null,
            "grid_auto_rows": null,
            "grid_column": null,
            "grid_gap": null,
            "grid_row": null,
            "grid_template_areas": null,
            "grid_template_columns": null,
            "grid_template_rows": null,
            "height": null,
            "justify_content": null,
            "justify_items": null,
            "left": null,
            "margin": null,
            "max_height": null,
            "max_width": null,
            "min_height": null,
            "min_width": null,
            "object_fit": null,
            "object_position": null,
            "order": null,
            "overflow": null,
            "overflow_x": null,
            "overflow_y": null,
            "padding": null,
            "right": null,
            "top": null,
            "visibility": null,
            "width": null
          }
        },
        "a9525e46bfa3413dbf1ea3d575d5904f": {
          "model_module": "@jupyter-widgets/base",
          "model_name": "LayoutModel",
          "model_module_version": "1.2.0",
          "state": {
            "_model_module": "@jupyter-widgets/base",
            "_model_module_version": "1.2.0",
            "_model_name": "LayoutModel",
            "_view_count": null,
            "_view_module": "@jupyter-widgets/base",
            "_view_module_version": "1.2.0",
            "_view_name": "LayoutView",
            "align_content": null,
            "align_items": null,
            "align_self": null,
            "border": null,
            "bottom": null,
            "display": null,
            "flex": null,
            "flex_flow": null,
            "grid_area": null,
            "grid_auto_columns": null,
            "grid_auto_flow": null,
            "grid_auto_rows": null,
            "grid_column": null,
            "grid_gap": null,
            "grid_row": null,
            "grid_template_areas": null,
            "grid_template_columns": null,
            "grid_template_rows": null,
            "height": null,
            "justify_content": null,
            "justify_items": null,
            "left": null,
            "margin": null,
            "max_height": null,
            "max_width": null,
            "min_height": null,
            "min_width": null,
            "object_fit": null,
            "object_position": null,
            "order": null,
            "overflow": null,
            "overflow_x": null,
            "overflow_y": null,
            "padding": null,
            "right": null,
            "top": null,
            "visibility": null,
            "width": null
          }
        },
        "502259d0e0884b76a162c3350e40b111": {
          "model_module": "@jupyter-widgets/controls",
          "model_name": "DescriptionStyleModel",
          "model_module_version": "1.5.0",
          "state": {
            "_model_module": "@jupyter-widgets/controls",
            "_model_module_version": "1.5.0",
            "_model_name": "DescriptionStyleModel",
            "_view_count": null,
            "_view_module": "@jupyter-widgets/base",
            "_view_module_version": "1.2.0",
            "_view_name": "StyleView",
            "description_width": ""
          }
        },
        "d8f4754498ec43c5a206695a13285817": {
          "model_module": "@jupyter-widgets/base",
          "model_name": "LayoutModel",
          "model_module_version": "1.2.0",
          "state": {
            "_model_module": "@jupyter-widgets/base",
            "_model_module_version": "1.2.0",
            "_model_name": "LayoutModel",
            "_view_count": null,
            "_view_module": "@jupyter-widgets/base",
            "_view_module_version": "1.2.0",
            "_view_name": "LayoutView",
            "align_content": null,
            "align_items": null,
            "align_self": null,
            "border": null,
            "bottom": null,
            "display": null,
            "flex": null,
            "flex_flow": null,
            "grid_area": null,
            "grid_auto_columns": null,
            "grid_auto_flow": null,
            "grid_auto_rows": null,
            "grid_column": null,
            "grid_gap": null,
            "grid_row": null,
            "grid_template_areas": null,
            "grid_template_columns": null,
            "grid_template_rows": null,
            "height": null,
            "justify_content": null,
            "justify_items": null,
            "left": null,
            "margin": null,
            "max_height": null,
            "max_width": null,
            "min_height": null,
            "min_width": null,
            "object_fit": null,
            "object_position": null,
            "order": null,
            "overflow": null,
            "overflow_x": null,
            "overflow_y": null,
            "padding": null,
            "right": null,
            "top": null,
            "visibility": null,
            "width": null
          }
        },
        "0e1023ce71eb49e99e6c4f8d562b5eed": {
          "model_module": "@jupyter-widgets/controls",
          "model_name": "ProgressStyleModel",
          "model_module_version": "1.5.0",
          "state": {
            "_model_module": "@jupyter-widgets/controls",
            "_model_module_version": "1.5.0",
            "_model_name": "ProgressStyleModel",
            "_view_count": null,
            "_view_module": "@jupyter-widgets/base",
            "_view_module_version": "1.2.0",
            "_view_name": "StyleView",
            "bar_color": null,
            "description_width": ""
          }
        },
        "be84b95a8aa246079f42c666a6aa98f4": {
          "model_module": "@jupyter-widgets/base",
          "model_name": "LayoutModel",
          "model_module_version": "1.2.0",
          "state": {
            "_model_module": "@jupyter-widgets/base",
            "_model_module_version": "1.2.0",
            "_model_name": "LayoutModel",
            "_view_count": null,
            "_view_module": "@jupyter-widgets/base",
            "_view_module_version": "1.2.0",
            "_view_name": "LayoutView",
            "align_content": null,
            "align_items": null,
            "align_self": null,
            "border": null,
            "bottom": null,
            "display": null,
            "flex": null,
            "flex_flow": null,
            "grid_area": null,
            "grid_auto_columns": null,
            "grid_auto_flow": null,
            "grid_auto_rows": null,
            "grid_column": null,
            "grid_gap": null,
            "grid_row": null,
            "grid_template_areas": null,
            "grid_template_columns": null,
            "grid_template_rows": null,
            "height": null,
            "justify_content": null,
            "justify_items": null,
            "left": null,
            "margin": null,
            "max_height": null,
            "max_width": null,
            "min_height": null,
            "min_width": null,
            "object_fit": null,
            "object_position": null,
            "order": null,
            "overflow": null,
            "overflow_x": null,
            "overflow_y": null,
            "padding": null,
            "right": null,
            "top": null,
            "visibility": null,
            "width": null
          }
        },
        "56d46e25738e42e1850fa4722d1f7053": {
          "model_module": "@jupyter-widgets/controls",
          "model_name": "DescriptionStyleModel",
          "model_module_version": "1.5.0",
          "state": {
            "_model_module": "@jupyter-widgets/controls",
            "_model_module_version": "1.5.0",
            "_model_name": "DescriptionStyleModel",
            "_view_count": null,
            "_view_module": "@jupyter-widgets/base",
            "_view_module_version": "1.2.0",
            "_view_name": "StyleView",
            "description_width": ""
          }
        }
      }
    }
  },
  "cells": [
    {
      "cell_type": "code",
      "execution_count": 4,
      "metadata": {
        "colab": {
          "base_uri": "https://localhost:8080/"
        },
        "id": "4HeBqS2P7Xrq",
        "outputId": "bbc7ad38-afeb-4882-e03e-9746c6260897"
      },
      "outputs": [
        {
          "output_type": "stream",
          "name": "stdout",
          "text": [
            "Requirement already satisfied: datasets in /usr/local/lib/python3.11/dist-packages (2.14.4)\n",
            "Requirement already satisfied: nltk in /usr/local/lib/python3.11/dist-packages (3.9.1)\n",
            "Requirement already satisfied: matplotlib in /usr/local/lib/python3.11/dist-packages (3.10.0)\n",
            "Requirement already satisfied: seaborn in /usr/local/lib/python3.11/dist-packages (0.13.2)\n",
            "Requirement already satisfied: numpy>=1.17 in /usr/local/lib/python3.11/dist-packages (from datasets) (2.0.2)\n",
            "Requirement already satisfied: pyarrow>=8.0.0 in /usr/local/lib/python3.11/dist-packages (from datasets) (18.1.0)\n",
            "Requirement already satisfied: dill<0.3.8,>=0.3.0 in /usr/local/lib/python3.11/dist-packages (from datasets) (0.3.7)\n",
            "Requirement already satisfied: pandas in /usr/local/lib/python3.11/dist-packages (from datasets) (2.2.2)\n",
            "Requirement already satisfied: requests>=2.19.0 in /usr/local/lib/python3.11/dist-packages (from datasets) (2.32.3)\n",
            "Requirement already satisfied: tqdm>=4.62.1 in /usr/local/lib/python3.11/dist-packages (from datasets) (4.67.1)\n",
            "Requirement already satisfied: xxhash in /usr/local/lib/python3.11/dist-packages (from datasets) (3.5.0)\n",
            "Requirement already satisfied: multiprocess in /usr/local/lib/python3.11/dist-packages (from datasets) (0.70.15)\n",
            "Requirement already satisfied: fsspec>=2021.11.1 in /usr/local/lib/python3.11/dist-packages (from fsspec[http]>=2021.11.1->datasets) (2025.3.2)\n",
            "Requirement already satisfied: aiohttp in /usr/local/lib/python3.11/dist-packages (from datasets) (3.11.15)\n",
            "Requirement already satisfied: huggingface-hub<1.0.0,>=0.14.0 in /usr/local/lib/python3.11/dist-packages (from datasets) (0.33.0)\n",
            "Requirement already satisfied: packaging in /usr/local/lib/python3.11/dist-packages (from datasets) (24.2)\n",
            "Requirement already satisfied: pyyaml>=5.1 in /usr/local/lib/python3.11/dist-packages (from datasets) (6.0.2)\n",
            "Requirement already satisfied: click in /usr/local/lib/python3.11/dist-packages (from nltk) (8.2.1)\n",
            "Requirement already satisfied: joblib in /usr/local/lib/python3.11/dist-packages (from nltk) (1.5.1)\n",
            "Requirement already satisfied: regex>=2021.8.3 in /usr/local/lib/python3.11/dist-packages (from nltk) (2024.11.6)\n",
            "Requirement already satisfied: contourpy>=1.0.1 in /usr/local/lib/python3.11/dist-packages (from matplotlib) (1.3.2)\n",
            "Requirement already satisfied: cycler>=0.10 in /usr/local/lib/python3.11/dist-packages (from matplotlib) (0.12.1)\n",
            "Requirement already satisfied: fonttools>=4.22.0 in /usr/local/lib/python3.11/dist-packages (from matplotlib) (4.58.4)\n",
            "Requirement already satisfied: kiwisolver>=1.3.1 in /usr/local/lib/python3.11/dist-packages (from matplotlib) (1.4.8)\n",
            "Requirement already satisfied: pillow>=8 in /usr/local/lib/python3.11/dist-packages (from matplotlib) (11.2.1)\n",
            "Requirement already satisfied: pyparsing>=2.3.1 in /usr/local/lib/python3.11/dist-packages (from matplotlib) (3.2.3)\n",
            "Requirement already satisfied: python-dateutil>=2.7 in /usr/local/lib/python3.11/dist-packages (from matplotlib) (2.9.0.post0)\n",
            "Requirement already satisfied: aiohappyeyeballs>=2.3.0 in /usr/local/lib/python3.11/dist-packages (from aiohttp->datasets) (2.6.1)\n",
            "Requirement already satisfied: aiosignal>=1.1.2 in /usr/local/lib/python3.11/dist-packages (from aiohttp->datasets) (1.3.2)\n",
            "Requirement already satisfied: attrs>=17.3.0 in /usr/local/lib/python3.11/dist-packages (from aiohttp->datasets) (25.3.0)\n",
            "Requirement already satisfied: frozenlist>=1.1.1 in /usr/local/lib/python3.11/dist-packages (from aiohttp->datasets) (1.7.0)\n",
            "Requirement already satisfied: multidict<7.0,>=4.5 in /usr/local/lib/python3.11/dist-packages (from aiohttp->datasets) (6.4.4)\n",
            "Requirement already satisfied: propcache>=0.2.0 in /usr/local/lib/python3.11/dist-packages (from aiohttp->datasets) (0.3.2)\n",
            "Requirement already satisfied: yarl<2.0,>=1.17.0 in /usr/local/lib/python3.11/dist-packages (from aiohttp->datasets) (1.20.1)\n",
            "Requirement already satisfied: filelock in /usr/local/lib/python3.11/dist-packages (from huggingface-hub<1.0.0,>=0.14.0->datasets) (3.18.0)\n",
            "Requirement already satisfied: typing-extensions>=3.7.4.3 in /usr/local/lib/python3.11/dist-packages (from huggingface-hub<1.0.0,>=0.14.0->datasets) (4.14.0)\n",
            "Requirement already satisfied: hf-xet<2.0.0,>=1.1.2 in /usr/local/lib/python3.11/dist-packages (from huggingface-hub<1.0.0,>=0.14.0->datasets) (1.1.4)\n",
            "Requirement already satisfied: pytz>=2020.1 in /usr/local/lib/python3.11/dist-packages (from pandas->datasets) (2025.2)\n",
            "Requirement already satisfied: tzdata>=2022.7 in /usr/local/lib/python3.11/dist-packages (from pandas->datasets) (2025.2)\n",
            "Requirement already satisfied: six>=1.5 in /usr/local/lib/python3.11/dist-packages (from python-dateutil>=2.7->matplotlib) (1.17.0)\n",
            "Requirement already satisfied: charset-normalizer<4,>=2 in /usr/local/lib/python3.11/dist-packages (from requests>=2.19.0->datasets) (3.4.2)\n",
            "Requirement already satisfied: idna<4,>=2.5 in /usr/local/lib/python3.11/dist-packages (from requests>=2.19.0->datasets) (3.10)\n",
            "Requirement already satisfied: urllib3<3,>=1.21.1 in /usr/local/lib/python3.11/dist-packages (from requests>=2.19.0->datasets) (2.4.0)\n",
            "Requirement already satisfied: certifi>=2017.4.17 in /usr/local/lib/python3.11/dist-packages (from requests>=2.19.0->datasets) (2025.6.15)\n"
          ]
        }
      ],
      "source": [
        "!pip install datasets nltk matplotlib seaborn\n"
      ]
    },
    {
      "cell_type": "code",
      "source": [
        "from google.colab import drive\n",
        "drive.mount('/content/drive')\n"
      ],
      "metadata": {
        "colab": {
          "base_uri": "https://localhost:8080/"
        },
        "id": "baw-qu1nFaRx",
        "outputId": "e762b3e3-fd7a-43cc-ba21-b6f1ba7fdfb5"
      },
      "execution_count": 5,
      "outputs": [
        {
          "output_type": "stream",
          "name": "stdout",
          "text": [
            "Drive already mounted at /content/drive; to attempt to forcibly remount, call drive.mount(\"/content/drive\", force_remount=True).\n"
          ]
        }
      ]
    },
    {
      "cell_type": "code",
      "source": [
        "import nltk\n",
        "nltk.download('punkt')\n",
        "nltk.download('punkt_tab')\n"
      ],
      "metadata": {
        "colab": {
          "base_uri": "https://localhost:8080/"
        },
        "id": "zg4b1FbzGIHf",
        "outputId": "9fb4c5fd-8d9d-4f80-8f12-49eef3eacabe"
      },
      "execution_count": 6,
      "outputs": [
        {
          "output_type": "stream",
          "name": "stderr",
          "text": [
            "[nltk_data] Downloading package punkt to /root/nltk_data...\n",
            "[nltk_data]   Package punkt is already up-to-date!\n",
            "[nltk_data] Downloading package punkt_tab to /root/nltk_data...\n",
            "[nltk_data]   Package punkt_tab is already up-to-date!\n"
          ]
        },
        {
          "output_type": "execute_result",
          "data": {
            "text/plain": [
              "True"
            ]
          },
          "metadata": {},
          "execution_count": 6
        }
      ]
    },
    {
      "cell_type": "code",
      "source": [
        "import pandas as pd\n",
        "from datasets import load_dataset\n",
        "import matplotlib.pyplot as plt\n",
        "import seaborn as sns\n",
        "import nltk\n",
        "from nltk.tokenize import word_tokenize\n",
        "\n",
        "nltk.download(\"punkt\")\n",
        "\n",
        "base_path = \"/content/drive/MyDrive/Datasets/\"\n",
        "train_0 = pd.read_parquet(base_path + \"train-00000-of-00003.parquet\")\n",
        "train_1 = pd.read_parquet(base_path + \"train-00001-of-00003.parquet\")\n",
        "train_2 = pd.read_parquet(base_path + \"train-00002-of-00003.parquet\")\n",
        "\n",
        "# Merge\n",
        "train_df = pd.concat([train_0, train_1, train_2], ignore_index=True)\n",
        "\n",
        "# EDA Sample (optional)\n",
        "train_df = train_df.sample(n=5000, random_state=42).reset_index(drop=True)\n",
        "\n",
        "# Lengths\n",
        "train_df[\"article_len\"] = train_df[\"article\"].apply(lambda x: len(word_tokenize(x)))\n",
        "train_df[\"summary_len\"] = train_df[\"highlights\"].apply(lambda x: len(word_tokenize(x)))\n",
        "\n",
        "# Plot\n",
        "plt.figure(figsize=(12, 5))\n",
        "sns.histplot(train_df[\"article_len\"], bins=50, kde=True, color=\"skyblue\", label=\"Article Length\")\n",
        "sns.histplot(train_df[\"summary_len\"], bins=50, kde=True, color=\"orange\", label=\"Summary Length\")\n",
        "plt.legend()\n",
        "plt.title(\"Token Length Distributions\")\n",
        "plt.xlabel(\"Token Count\")\n",
        "plt.ylabel(\"Frequency\")\n",
        "plt.show()\n",
        "\n",
        "# Summary statistics\n",
        "print(\"Average Article Length:\", train_df[\"article_len\"].mean())\n",
        "print(\"Average Summary Length:\", train_df[\"summary_len\"].mean())\n",
        "\n",
        "# Preview\n",
        "train_df[[\"article\", \"highlights\"]].head()\n"
      ],
      "metadata": {
        "colab": {
          "base_uri": "https://localhost:8080/",
          "height": 748
        },
        "id": "4-_tolyF8OmJ",
        "outputId": "d528637e-a6a9-43df-ef4d-5e5f96918446"
      },
      "execution_count": 7,
      "outputs": [
        {
          "output_type": "stream",
          "name": "stderr",
          "text": [
            "[nltk_data] Downloading package punkt to /root/nltk_data...\n",
            "[nltk_data]   Package punkt is already up-to-date!\n"
          ]
        },
        {
          "output_type": "display_data",
          "data": {
            "text/plain": [
              "<Figure size 1200x500 with 1 Axes>"
            ],
            "image/png": "[encoded data removed]"
          },
          "metadata": {}
        },
        {
          "output_type": "stream",
          "name": "stdout",
          "text": [
            "Average Article Length: 790.124\n",
            "Average Summary Length: 54.8954\n"
          ]
        },
        {
          "output_type": "execute_result",
          "data": {
            "text/plain": [
              "                                             article  \\\n",
              "0  Nasa has warned of an impending asteroid pass ...   \n",
              "1  BAGHDAD, Iraq (CNN) -- Iraq's most powerful Su...   \n",
              "2  By . David Kent . Andy Carroll has taken an un...   \n",
              "3  Los Angeles (CNN) -- Los Angeles has long been...   \n",
              "4  London (CNN) -- Few shows can claim such an au...   \n",
              "\n",
              "                                          highlights  \n",
              "0  2004 BL86 will pass about three times the dist...  \n",
              "1  Iraqi Islamic Party calls Quran incident \"blat...  \n",
              "2  Carroll takes to Instagram to post selfie ahea...  \n",
              "3  Pop stars from all over Europe are setting the...  \n",
              "4  NEW: Young athletes light the Olympic cauldron...  "
            ],
            "text/html": [
              "\n",
              "  <div id=\"df-0cc6873c-8516-4353-adbb-66dc02aa0d27\" class=\"colab-df-container\">\n",
              "    <div>\n",
              "<style scoped>\n",
              "    .dataframe tbody tr th:only-of-type {\n",
              "        vertical-align: middle;\n",
              "    }\n",
              "\n",
              "    .dataframe tbody tr th {\n",
              "        vertical-align: top;\n",
              "    }\n",
              "\n",
              "    .dataframe thead th {\n",
              "        text-align: right;\n",
              "    }\n",
              "</style>\n",
              "<table border=\"1\" class=\"dataframe\">\n",
              "  <thead>\n",
              "    <tr style=\"text-align: right;\">\n",
              "      <th></th>\n",
              "      <th>article</th>\n",
              "      <th>highlights</th>\n",
              "    </tr>\n",
              "  </thead>\n",
              "  <tbody>\n",
              "    <tr>\n",
              "      <th>0</th>\n",
              "      <td>Nasa has warned of an impending asteroid pass ...</td>\n",
              "      <td>2004 BL86 will pass about three times the dist...</td>\n",
              "    </tr>\n",
              "    <tr>\n",
              "      <th>1</th>\n",
              "      <td>BAGHDAD, Iraq (CNN) -- Iraq's most powerful Su...</td>\n",
              "      <td>Iraqi Islamic Party calls Quran incident \"blat...</td>\n",
              "    </tr>\n",
              "    <tr>\n",
              "      <th>2</th>\n",
              "      <td>By . David Kent . Andy Carroll has taken an un...</td>\n",
              "      <td>Carroll takes to Instagram to post selfie ahea...</td>\n",
              "    </tr>\n",
              "    <tr>\n",
              "      <th>3</th>\n",
              "      <td>Los Angeles (CNN) -- Los Angeles has long been...</td>\n",
              "      <td>Pop stars from all over Europe are setting the...</td>\n",
              "    </tr>\n",
              "    <tr>\n",
              "      <th>4</th>\n",
              "      <td>London (CNN) -- Few shows can claim such an au...</td>\n",
              "      <td>NEW: Young athletes light the Olympic cauldron...</td>\n",
              "    </tr>\n",
              "  </tbody>\n",
              "</table>\n",
              "</div>\n",
              "    <div class=\"colab-df-buttons\">\n",
              "\n",
              "  <div class=\"colab-df-container\">\n",
              "    <button class=\"colab-df-convert\" onclick=\"convertToInteractive('df-0cc6873c-8516-4353-adbb-66dc02aa0d27')\"\n",
              "            title=\"Convert this dataframe to an interactive table.\"\n",
              "            style=\"display:none;\">\n",
              "\n",
              "  <svg xmlns=\"http://www.w3.org/2000/svg\" height=\"24px\" viewBox=\"0 -960 960 960\">\n",
              "    <path d=\"M120-120v-720h720v720H120Zm60-500h600v-160H180v160Zm220 220h160v-160H400v160Zm0 220h160v-160H400v160ZM180-400h160v-160H180v160Zm440 0h160v-160H620v160ZM180-180h160v-160H180v160Zm440 0h160v-160H620v160Z\"/>\n",
              "  </svg>\n",
              "    </button>\n",
              "\n",
              "  <style>\n",
              "    .colab-df-container {\n",
              "      display:flex;\n",
              "      gap: 12px;\n",
              "    }\n",
              "\n",
              "    .colab-df-convert {\n",
              "      background-color: #E8F0FE;\n",
              "      border: none;\n",
              "      border-radius: 50%;\n",
              "      cursor: pointer;\n",
              "      display: none;\n",
              "      fill: #1967D2;\n",
              "      height: 32px;\n",
              "      padding: 0 0 0 0;\n",
              "      width: 32px;\n",
              "    }\n",
              "\n",
              "    .colab-df-convert:hover {\n",
              "      background-color: #E2EBFA;\n",
              "      box-shadow: 0px 1px 2px rgba(60, 64, 67, 0.3), 0px 1px 3px 1px rgba(60, 64, 67, 0.15);\n",
              "      fill: #174EA6;\n",
              "    }\n",
              "\n",
              "    .colab-df-buttons div {\n",
              "      margin-bottom: 4px;\n",
              "    }\n",
              "\n",
              "    [theme=dark] .colab-df-convert {\n",
              "      background-color: #3B4455;\n",
              "      fill: #D2E3FC;\n",
              "    }\n",
              "\n",
              "    [theme=dark] .colab-df-convert:hover {\n",
              "      background-color: #434B5C;\n",
              "      box-shadow: 0px 1px 3px 1px rgba(0, 0, 0, 0.15);\n",
              "      filter: drop-shadow(0px 1px 2px rgba(0, 0, 0, 0.3));\n",
              "      fill: #FFFFFF;\n",
              "    }\n",
              "  </style>\n",
              "\n",
              "    <script>\n",
              "      const buttonEl =\n",
              "        document.querySelector('#df-0cc6873c-8516-4353-adbb-66dc02aa0d27 button.colab-df-convert');\n",
              "      buttonEl.style.display =\n",
              "        google.colab.kernel.accessAllowed ? 'block' : 'none';\n",
              "\n",
              "      async function convertToInteractive(key) {\n",
              "        const element = document.querySelector('#df-0cc6873c-8516-4353-adbb-66dc02aa0d27');\n",
              "        const dataTable =\n",
              "          await google.colab.kernel.invokeFunction('convertToInteractive',\n",
              "                                                    [key], {});\n",
              "        if (!dataTable) return;\n",
              "\n",
              "        const docLinkHtml = 'Like what you see? Visit the ' +\n",
              "          '<a target=\"_blank\" href=https://colab.research.google.com/notebooks/data_table.ipynb>data table notebook</a>'\n",
              "          + ' to learn more about interactive tables.';\n",
              "        element.innerHTML = '';\n",
              "        dataTable['output_type'] = 'display_data';\n",
              "        await google.colab.output.renderOutput(dataTable, element);\n",
              "        const docLink = document.createElement('div');\n",
              "        docLink.innerHTML = docLinkHtml;\n",
              "        element.appendChild(docLink);\n",
              "      }\n",
              "    </script>\n",
              "  </div>\n",
              "\n",
              "\n",
              "    <div id=\"df-08f7460c-5f09-46fc-b19a-beaef34226c4\">\n",
              "      <button class=\"colab-df-quickchart\" onclick=\"quickchart('df-08f7460c-5f09-46fc-b19a-beaef34226c4')\"\n",
              "                title=\"Suggest charts\"\n",
              "                style=\"display:none;\">\n",
              "\n",
              "<svg xmlns=\"http://www.w3.org/2000/svg\" height=\"24px\"viewBox=\"0 0 24 24\"\n",
              "     width=\"24px\">\n",
              "    <g>\n",
              "        <path d=\"M19 3H5c-1.1 0-2 .9-2 2v14c0 1.1.9 2 2 2h14c1.1 0 2-.9 2-2V5c0-1.1-.9-2-2-2zM9 17H7v-7h2v7zm4 0h-2V7h2v10zm4 0h-2v-4h2v4z\"/>\n",
              "    </g>\n",
              "</svg>\n",
              "      </button>\n",
              "\n",
              "<style>\n",
              "  .colab-df-quickchart {\n",
              "      --bg-color: #E8F0FE;\n",
              "      --fill-color: #1967D2;\n",
              "      --hover-bg-color: #E2EBFA;\n",
              "      --hover-fill-color: #174EA6;\n",
              "      --disabled-fill-color: #AAA;\n",
              "      --disabled-bg-color: #DDD;\n",
              "  }\n",
              "\n",
              "  [theme=dark] .colab-df-quickchart {\n",
              "      --bg-color: #3B4455;\n",
              "      --fill-color: #D2E3FC;\n",
              "      --hover-bg-color: #434B5C;\n",
              "      --hover-fill-color: #FFFFFF;\n",
              "      --disabled-bg-color: #3B4455;\n",
              "      --disabled-fill-color: #666;\n",
              "  }\n",
              "\n",
              "  .colab-df-quickchart {\n",
              "    background-color: var(--bg-color);\n",
              "    border: none;\n",
              "    border-radius: 50%;\n",
              "    cursor: pointer;\n",
              "    display: none;\n",
              "    fill: var(--fill-color);\n",
              "    height: 32px;\n",
              "    padding: 0;\n",
              "    width: 32px;\n",
              "  }\n",
              "\n",
              "  .colab-df-quickchart:hover {\n",
              "    background-color: var(--hover-bg-color);\n",
              "    box-shadow: 0 1px 2px rgba(60, 64, 67, 0.3), 0 1px 3px 1px rgba(60, 64, 67, 0.15);\n",
              "    fill: var(--button-hover-fill-color);\n",
              "  }\n",
              "\n",
              "  .colab-df-quickchart-complete:disabled,\n",
              "  .colab-df-quickchart-complete:disabled:hover {\n",
              "    background-color: var(--disabled-bg-color);\n",
              "    fill: var(--disabled-fill-color);\n",
              "    box-shadow: none;\n",
              "  }\n",
              "\n",
              "  .colab-df-spinner {\n",
              "    border: 2px solid var(--fill-color);\n",
              "    border-color: transparent;\n",
              "    border-bottom-color: var(--fill-color);\n",
              "    animation:\n",
              "      spin 1s steps(1) infinite;\n",
              "  }\n",
              "\n",
              "  @keyframes spin {\n",
              "    0% {\n",
              "      border-color: transparent;\n",
              "      border-bottom-color: var(--fill-color);\n",
              "      border-left-color: var(--fill-color);\n",
              "    }\n",
              "    20% {\n",
              "      border-color: transparent;\n",
              "      border-left-color: var(--fill-color);\n",
              "      border-top-color: var(--fill-color);\n",
              "    }\n",
              "    30% {\n",
              "      border-color: transparent;\n",
              "      border-left-color: var(--fill-color);\n",
              "      border-top-color: var(--fill-color);\n",
              "      border-right-color: var(--fill-color);\n",
              "    }\n",
              "    40% {\n",
              "      border-color: transparent;\n",
              "      border-right-color: var(--fill-color);\n",
              "      border-top-color: var(--fill-color);\n",
              "    }\n",
              "    60% {\n",
              "      border-color: transparent;\n",
              "      border-right-color: var(--fill-color);\n",
              "    }\n",
              "    80% {\n",
              "      border-color: transparent;\n",
              "      border-right-color: var(--fill-color);\n",
              "      border-bottom-color: var(--fill-color);\n",
              "    }\n",
              "    90% {\n",
              "      border-color: transparent;\n",
              "      border-bottom-color: var(--fill-color);\n",
              "    }\n",
              "  }\n",
              "</style>\n",
              "\n",
              "      <script>\n",
              "        async function quickchart(key) {\n",
              "          const quickchartButtonEl =\n",
              "            document.querySelector('#' + key + ' button');\n",
              "          quickchartButtonEl.disabled = true;  // To prevent multiple clicks.\n",
              "          quickchartButtonEl.classList.add('colab-df-spinner');\n",
              "          try {\n",
              "            const charts = await google.colab.kernel.invokeFunction(\n",
              "                'suggestCharts', [key], {});\n",
              "          } catch (error) {\n",
              "            console.error('Error during call to suggestCharts:', error);\n",
              "          }\n",
              "          quickchartButtonEl.classList.remove('colab-df-spinner');\n",
              "          quickchartButtonEl.classList.add('colab-df-quickchart-complete');\n",
              "        }\n",
              "        (() => {\n",
              "          let quickchartButtonEl =\n",
              "            document.querySelector('#df-08f7460c-5f09-46fc-b19a-beaef34226c4 button');\n",
              "          quickchartButtonEl.style.display =\n",
              "            google.colab.kernel.accessAllowed ? 'block' : 'none';\n",
              "        })();\n",
              "      </script>\n",
              "    </div>\n",
              "\n",
              "    </div>\n",
              "  </div>\n"
            ],
            "application/vnd.google.colaboratory.intrinsic+json": {
              "type": "dataframe",
              "summary": "{\n  \"name\": \"train_df[[\\\"article\\\", \\\"highlights\\\"]]\",\n  \"rows\": 5,\n  \"fields\": [\n    {\n      \"column\": \"article\",\n      \"properties\": {\n        \"dtype\": \"string\",\n        \"num_unique_values\": 5,\n        \"samples\": [\n          \"BAGHDAD, Iraq (CNN) -- Iraq's most powerful Sunni Arab political party on Monday said a U.S. soldier's desecration of the Quran, the Muslim holy book, requires the \\\"severest of punishments,\\\" not just an apology and a military reassignment. Maj. Gen. Jeffery Hammond apologizes after a U.S. soldier admitted using the Quran for target practice. The Iraqi Islamic Party, the movement of Iraqi Vice President Tariq al-Hashimi, condemned what it said was a \\\"blatant assault on the sanctities of Muslims all over the world.\\\" An American staff sergeant who was a sniper section leader used a Quran for target practice on May 9. The U.S. commander in Baghdad on Saturday issued a formal apology and read a letter of apology from the shooter. The sergeant has been relieved of duty as a section leader \\\"with prejudice,\\\" officially reprimanded by his commanding general, dismissed from his regiment and redeployed -- reassigned to the United States. But the Iraqi Islamic Party -- which said it reacted to the news \\\"with deep resentment and indignation\\\" -- wants the \\\"severest of punishments\\\" for the action. \\\"What truly concerns us is the repetition of these crimes that have happened in the past when mosques were destroyed and pages of the Holy Quran were torn and used for disgraceful acts by U.S. soldiers,\\\" al-Hashimi said. \\\"I have asked that first this apology be officially documented; second a guarantee from the U.S. military to inflict the maximum possible punishment on this soldier so it would be a deterrent for the rest of the soldiers in the future.\\\" A tribal leader said \\\"the criminal act by U.S. forces\\\" took place at a shooting range at the Radhwaniya police station on Baghdad's western outskirts. After the shooters left, an Iraqi policeman found a target marked in the middle of the bullet-riddled Quran.  Read how the soldier could have provoked a crisis . Copies of the pictures of the Quran obtained by CNN show multiple bullet holes and an expletive scrawled on one of its pages. On Saturday, Maj. Gen. Jeffery Hammond, commander of U.S. forces in Baghdad, appeared at an apology ceremony flanked by leaders from Radhwaniya.  Watch as the U.S. formally apologizes \\u00bb . \\\"I come before you here seeking your forgiveness,\\\" Hammond said to tribal leaders and others gathered. \\\"In the most humble manner, I look in your eyes today, and I say please forgive me and my soldiers.\\\" Another military official kissed a Quran and presented it as \\\"a humble gift\\\" to the tribal leaders. Hammond also read from the shooter's letter: \\\"I sincerely hope that my actions have not diminished the partnership that our two nations have developed together. ... My actions were shortsighted, very reckless and irresponsible, but in my heart [the actions] were not malicious.\\\" Hammond said, \\\"The actions of one soldier were nothing more than criminal behavior. I've come to this land to protect you, to support you -- not to harm you -- and the behavior of this soldier was nothing short of wrong and unacceptable.\\\" The soldier reportedly claimed he wasn't aware the book was the Quran, but U.S. officials rejected his assertion. Tribal leaders, dignitaries and local security officials attended the ceremony, while residents carried banners and chanted slogans, including, \\\"Yes, yes to the Quran\\\" and \\\"America out, out.\\\"  Watch as villagers protest the Quran incident \\u00bb . Sheikh Hamadi al-Qirtani, in a speech on behalf of all tribal sheikhs of Radhwaniya, called the shooting \\\"aggression against the entire Islamic world.\\\" The Association of Muslim Scholars in Iraq also condemned the shooter's actions and the U.S. military's belated acknowledgment of what happened. \\\"As the Association of Muslim Scholars condemns this heinous crime against God's holy book, the constitution of this nation, a source of pride and dignity,\\\" the group's statement said, \\\"they condemned the silence by all those who are part of the occupation's agenda and holds the occupation and the current government fully responsible for this violation and reminds everyone that God preserves his book and he [God] is a great avenger.\\\"\",\n          \"London (CNN) -- Few shows can claim such an audience. As the dramatic spectacle of the Olympic Games opening ceremony in London unfolded Friday night, organizers estimated a billion people around the world would be glued to their television sets to see it, either live or delayed by a few hours. Tens of thousands more were lucky enough to have a seat inside the Olympic Stadium, the centerpiece of Olympic Park in east London. Dubbed \\\"Isles of Wonder,\\\" it was quite a show -- fast-paced and diverse, with everything from people dancing in period costumes to a pseudo house party. It featured tributes to the British countryside and the Industrial Revolution (complete with smokestacks emerging from the ground), showcased the \\\"Chariots of Fire\\\" soundtrack as well as pop music staples from the Beatles to Amy Winehouse, and even comedy bits featuring Mr. Bean (Rowan Atkinson), actor Daniel Craig and even Queen Elizabeth II herself. The queen was among the more than 80 heads of state attending the event, which sets the scene for the Games to come. London cheers Olympic torch as opening day nears . The organizers of the London Games were well aware they had a tough act to follow after the Beijing extravaganza four years ago, which featured thousands of drummers, acrobats, martial artists and dancers performing under a light display at the soaring \\\"Bird's Nest\\\" Stadium. Some details of the \\u00c2\\u00a327 million show were released in advance, but many more remained closely guarded secrets. A Twitter hashtag, #savethesurprise, started by Olympic organizers to appeal to those in the know not to spoil the show for others, had been embraced by many, although not all. The 10 coolest tech stories of the 2012 London Olympics . Giant screens also displayed the message within the stadium during the two rehearsals. Those who opted not to play along incurred the social-media wrath of many who did want to \\\"save the surprise.\\\" The show, masterminded by artistic director Danny Boyle, best known for the Oscar-winning film \\\"Slumdog Millionaire,\\\" drew part of its inspiration from Shakespeare's \\\"The Tempest.\\\" It began at 9 p.m. (4 p.m. ET) with the tolling of the largest harmonically tuned bell in Europe, cast by the nearby Whitechapel Foundry, which also produced Big Ben and the Liberty Bell. The sound echoed the peals of bells that rang out across the country for three minutes Friday morning, Big Ben among them, to set the nation's Olympic spirit racing. The show's opening scene -- dubbed \\\"Green and Pleasant,\\\" after a line from a poem by William Blake -- then unfurled, presenting an idyllic view of the British countryside. The elaborate set comprised rolling hills, fields and rivers, complete with picnicking families, sport being played on a village green and real farmyard animals: ducks, geese, 12 horses, three cows and 70 sheep, plus three sheepdogs to keep them in line. Chasing the gold-dust of 'Brand Olympics' The flower of each of the four countries that make up the United Kingdom also were represented -- the rose of England, the Scottish thistle, Welsh daffodil and flax from Northern Ireland. Boyle also lined up fake clouds to shade his pastoral scene. Other set pieces paid tribute to Britain's National Health Service, children's literature (showcasing characters from the evil Lord Voldemort of Harry Pottery infamy to magical nanny Mary Poppins) and popular music. It was all a mammoth production involving not just Boyle and his technical crew, but also a cast of 10,000 adult volunteers and 900 local schoolchildren. Then there was a heavy-duty flying system, nearly 13,000 props and an array of technological wizardry. After these performances, the athletes -- who, after all, are the real stars of the Olympic show -- entered the stadium, team by team in alphabetical order, apart from Greece, which enters first in recognition of its status as the birthplace of the Games, and Great Britain, entering last, the position reserved for the host nation. Why gritty East End is London's gold standard . After speeches from Olympic officials -- including Sebastian Coe, head of the London organizing committee and himself a former gold medalist -- the queen officially declared the Games open and the Olympic flag was later hoisted above the stadium, where it will fly throughout the competition. The grand finale saw five-time gold medalist rower Steve Redgrave carry the torch into the stadium, where he handed the flame off to seven promising young athletes. They then lit parts of the large cauldron, triggering a chain of events that culminated in small flames converging in the sky above the stadium. This capped the torch's 70-day, 8,000-mile relay around the United Kingdom -- weeks that had been marked with anticipation. Is the Olympics worth more than Google? Spain suffers shock defeat to Japan . CNN's Chris Murphy contributed to this report.\",\n          \"By . David Kent . Andy Carroll has taken an understandably glum-looking selfie in hospital. The striker took to Instagram to post a snap of himself just as he prepared to go in for ankle surgery. And you can understand the look on his face, after several injury-ravaged seasons with Liverpool and West Ham, Carroll was finally hoping for a clean bill of health as he finally looked to fulfill the promise he showed following his breakthrough at Newcastle.VIDEO Scroll down to see behind the scenes of West Ham's new kit unveiling . Glum: Andy Carroll's pre-operation selfie from hospital . Blow: Andy Carroll is reportedly out for four months after tearing ligaments in his ankle . SEPTEMBER 2012Misses a month after straining a hamstring against FulhamDECEMBER 2012Twists his knee against Man Utd and is out for two monthsMAY 2013Falls awkwardly and damages his heel against Reading and is out for seven months . But, once again, it wasn't to be, as an ankle injury on a tour of New Zealand ruled him out for up to four months. It is then expected that he will not . return to action until December at the earliest, missing the crucial . start of West Ham's campaign. The . England international was unable to play last season until January after . injuring his left heel and made only 16 appearances. That . injury had completely healed and he was gearing up for the start of the . new campaign by heading out to New Zealand for the club's pre-season . tour when this fresh injury struck in training. It is understood to be . completely unrelated to the one he sustained 14 months ago. In . the last game of the 2012/13 season he ruptured the lateral plantar . fascia \\u2013 the tendons that run through the arch of the foot, connecting . the heel to the toes \\u2013 in his right foot leaping for a ball against . Reading. When he was thought to be on the mend, the medial one went and he was out for almost six months of the last campaign. Having . been on loan at the club from Liverpool for one season, West Ham . pressed ahead to make the transfer permanent last summer in what Sam . Allardyce described as a 'calculated risk.' Missing: Carroll had to withdrawn from West Ham's pre-season tour in New Zealand . Out: Carroll was originally expected to recover from the injury before the start of next season . The . West Ham manager was initially told that Carroll, who has won nine caps . for England, would only be out until September but he ended up missing . the entire first half of the season. This . was despite owner David Sullivan seeking out a top specialist, Lieven . Maesschalck, and he spent time with the physiotherapist in Belgium to . help his recovery. It will be hugely frustrating for Allardyce that he will have to start a second successive season without his star striker. Carroll . has scored just two goals since he became their record signing and, on . around \\u00a380,000 per week, their highest-paid player. He has so far cost . them \\u00a31million per Premier League game. Fans . will be hoping that this is the last of his injury problems, with his . contract set to run for another five years until 2019.\"\n        ],\n        \"semantic_type\": \"\",\n        \"description\": \"\"\n      }\n    },\n    {\n      \"column\": \"highlights\",\n      \"properties\": {\n        \"dtype\": \"string\",\n        \"num_unique_values\": 5,\n        \"samples\": [\n          \"Iraqi Islamic Party calls Quran incident \\\"blatant assault\\\" on Muslim holy book .\\nU.S. soldier used Quran for target practice, military investigation found .\\nU.S. commander in Baghdad has issued formal apology .\\nSoldier relieved of duty, will be reassigned after sending letter of apology .\",\n          \"NEW: Young athletes light the Olympic cauldron after the queen opens the games .\\nPerformances pay tribute to British history, literature and music .\\nThe Greek delegation leads the parade of athletes into the stadium .\\nOrganizers had sought beforehand to keep the event's details secret .\",\n          \"Carroll takes to Instagram to post selfie ahead of ankle surgery .\\nWest Ham star expected to be out for up to four months .\\nThe forward has had an injury-ravaged spell since moving from Liverpool .\"\n        ],\n        \"semantic_type\": \"\",\n        \"description\": \"\"\n      }\n    }\n  ]\n}"
            }
          },
          "metadata": {},
          "execution_count": 7
        }
      ]
    },
    {
      "cell_type": "code",
      "source": [
        "# Compression ratio\n",
        "train_df[\"compression_ratio\"] = train_df[\"summary_len\"] / train_df[\"article_len\"]\n",
        "\n",
        "# Distribution of compression ratio\n",
        "plt.figure(figsize=(10, 5))\n",
        "sns.histplot(train_df[\"compression_ratio\"], bins=50, kde=True, color=\"purple\")\n",
        "plt.title(\"Compression Ratio (Summary / Article)\")\n",
        "plt.xlabel(\"Ratio\")\n",
        "plt.ylabel(\"Frequency\")\n",
        "plt.grid(True)\n",
        "plt.show()\n",
        "\n",
        "# Null and duplicate checks\n",
        "print(\"Null counts:\\n\", train_df.isnull().sum())\n",
        "print(\"\\nDuplicate rows:\", train_df.duplicated(subset=[\"article\", \"highlights\"]).sum())\n",
        "\n",
        "# Descriptive statistics\n",
        "print(\"\\nDescriptive stats for article and summary lengths:\")\n",
        "print(train_df[[\"article_len\", \"summary_len\", \"compression_ratio\"]].describe())\n"
      ],
      "metadata": {
        "colab": {
          "base_uri": "https://localhost:8080/",
          "height": 862
        },
        "id": "RQXNJa0cIOWa",
        "outputId": "748c33f9-2f5d-4404-bc78-ae1fe846729f"
      },
      "execution_count": 8,
      "outputs": [
        {
          "output_type": "display_data",
          "data": {
            "text/plain": [
              "<Figure size 1000x500 with 1 Axes>"
            ],
            "image/png": "[encoded data removed]"
          },
          "metadata": {}
        },
        {
          "output_type": "stream",
          "name": "stdout",
          "text": [
            "Null counts:\n",
            " article              0\n",
            "highlights           0\n",
            "id                   0\n",
            "article_len          0\n",
            "summary_len          0\n",
            "compression_ratio    0\n",
            "dtype: int64\n",
            "\n",
            "Duplicate rows: 0\n",
            "\n",
            "Descriptive stats for article and summary lengths:\n",
            "       article_len  summary_len  compression_ratio\n",
            "count  5000.000000  5000.000000        5000.000000\n",
            "mean    790.124000    54.895400           0.084087\n",
            "std     382.993925    21.966642           0.048147\n",
            "min      68.000000     6.000000           0.006164\n",
            "25%     500.000000    40.000000           0.051662\n",
            "50%     717.000000    52.000000           0.073099\n",
            "75%    1004.000000    64.000000           0.105620\n",
            "max    2265.000000   397.000000           0.765403\n"
          ]
        }
      ]
    },
    {
      "cell_type": "code",
      "source": [
        "!pip install transformers\n",
        "\n",
        "from transformers import T5Tokenizer\n",
        "\n",
        "tokenizer = T5Tokenizer.from_pretrained(\"t5-small\")\n",
        "\n",
        "max_input_length = 1024\n",
        "max_target_length = 128\n",
        "\n",
        "def preprocess_function(examples):\n",
        "    inputs = [\"summarize: \" + doc for doc in examples[\"article\"]]\n",
        "    model_inputs = tokenizer(inputs, max_length=max_input_length, truncation=True, padding=\"max_length\")\n",
        "\n",
        "    labels = tokenizer(examples[\"highlights\"], max_length=max_target_length, truncation=True, padding=\"max_length\")\n",
        "    model_inputs[\"labels\"] = labels[\"input_ids\"]\n",
        "    return model_inputs\n",
        "\n",
        "# Convert to Dataset\n",
        "from datasets import Dataset\n",
        "tokenized_dataset = Dataset.from_pandas(train_df[[\"article\", \"highlights\"]])\n",
        "tokenized_dataset = tokenized_dataset.map(preprocess_function, batched=True, remove_columns=[\"article\", \"highlights\"])\n",
        "\n",
        "# Check structure\n",
        "tokenized_dataset\n"
      ],
      "metadata": {
        "colab": {
          "base_uri": "https://localhost:8080/",
          "height": 442,
          "referenced_widgets": [
            "8049c8f3416043f387835adc3adf9a76",
            "1ea5ec07d9cd4516bd85398c7df0e4b3",
            "14c1ed945cac471fb0e8164395e5e728",
            "bb0e0e5508ed4ca5b2de831e8ac2fddd",
            "90717df507bb452eadb3866da3dcc36d",
            "a9525e46bfa3413dbf1ea3d575d5904f",
            "502259d0e0884b76a162c3350e40b111",
            "d8f4754498ec43c5a206695a13285817",
            "0e1023ce71eb49e99e6c4f8d562b5eed",
            "be84b95a8aa246079f42c666a6aa98f4",
            "56d46e25738e42e1850fa4722d1f7053"
          ]
        },
        "id": "47hpll8yIkaA",
        "outputId": "96fe5b18-75a2-4125-8a54-deb8e24aa73a"
      },
      "execution_count": 9,
      "outputs": [
        {
          "output_type": "stream",
          "name": "stdout",
          "text": [
            "Requirement already satisfied: transformers in /usr/local/lib/python3.11/dist-packages (4.52.4)\n",
            "Requirement already satisfied: filelock in /usr/local/lib/python3.11/dist-packages (from transformers) (3.18.0)\n",
            "Requirement already satisfied: huggingface-hub<1.0,>=0.30.0 in /usr/local/lib/python3.11/dist-packages (from transformers) (0.33.0)\n",
            "Requirement already satisfied: numpy>=1.17 in /usr/local/lib/python3.11/dist-packages (from transformers) (2.0.2)\n",
            "Requirement already satisfied: packaging>=20.0 in /usr/local/lib/python3.11/dist-packages (from transformers) (24.2)\n",
            "Requirement already satisfied: pyyaml>=5.1 in /usr/local/lib/python3.11/dist-packages (from transformers) (6.0.2)\n",
            "Requirement already satisfied: regex!=2019.12.17 in /usr/local/lib/python3.11/dist-packages (from transformers) (2024.11.6)\n",
            "Requirement already satisfied: requests in /usr/local/lib/python3.11/dist-packages (from transformers) (2.32.3)\n",
            "Requirement already satisfied: tokenizers<0.22,>=0.21 in /usr/local/lib/python3.11/dist-packages (from transformers) (0.21.2)\n",
            "Requirement already satisfied: safetensors>=0.4.3 in /usr/local/lib/python3.11/dist-packages (from transformers) (0.5.3)\n",
            "Requirement already satisfied: tqdm>=4.27 in /usr/local/lib/python3.11/dist-packages (from transformers) (4.67.1)\n",
            "Requirement already satisfied: fsspec>=2023.5.0 in /usr/local/lib/python3.11/dist-packages (from huggingface-hub<1.0,>=0.30.0->transformers) (2025.3.2)\n",
            "Requirement already satisfied: typing-extensions>=3.7.4.3 in /usr/local/lib/python3.11/dist-packages (from huggingface-hub<1.0,>=0.30.0->transformers) (4.14.0)\n",
            "Requirement already satisfied: hf-xet<2.0.0,>=1.1.2 in /usr/local/lib/python3.11/dist-packages (from huggingface-hub<1.0,>=0.30.0->transformers) (1.1.4)\n",
            "Requirement already satisfied: charset-normalizer<4,>=2 in /usr/local/lib/python3.11/dist-packages (from requests->transformers) (3.4.2)\n",
            "Requirement already satisfied: idna<4,>=2.5 in /usr/local/lib/python3.11/dist-packages (from requests->transformers) (3.10)\n",
            "Requirement already satisfied: urllib3<3,>=1.21.1 in /usr/local/lib/python3.11/dist-packages (from requests->transformers) (2.4.0)\n",
            "Requirement already satisfied: certifi>=2017.4.17 in /usr/local/lib/python3.11/dist-packages (from requests->transformers) (2025.6.15)\n"
          ]
        },
        {
          "output_type": "display_data",
          "data": {
            "text/plain": [
              "Map:   0%|          | 0/5000 [00:00<?, ? examples/s]"
            ],
            "application/vnd.jupyter.widget-view+json": {
              "version_major": 2,
              "version_minor": 0,
              "model_id": "8049c8f3416043f387835adc3adf9a76"
            }
          },
          "metadata": {}
        },
        {
          "output_type": "execute_result",
          "data": {
            "text/plain": [
              "Dataset({\n",
              "    features: ['input_ids', 'attention_mask', 'labels'],\n",
              "    num_rows: 5000\n",
              "})"
            ]
          },
          "metadata": {},
          "execution_count": 9
        }
      ]
    },
    {
      "cell_type": "code",
      "source": [
        "import matplotlib.pyplot as plt\n",
        "import seaborn as sns\n",
        "import pandas as pd\n",
        "\n",
        "# Create stats on input_ids and labels\n",
        "input_lengths = [len([tok for tok in sample if tok != tokenizer.pad_token_id]) for sample in tokenized_dataset[\"input_ids\"]]\n",
        "label_lengths = [len([tok for tok in sample if tok != tokenizer.pad_token_id]) for sample in tokenized_dataset[\"labels\"]]\n",
        "\n",
        "length_df = pd.DataFrame({\n",
        "    \"input_length\": input_lengths,\n",
        "    \"label_length\": label_lengths\n",
        "})\n",
        "\n",
        "# Plot\n",
        "plt.figure(figsize=(12, 5))\n",
        "sns.histplot(length_df[\"input_length\"], bins=50, kde=True, color=\"skyblue\", label=\"Input Lengths\")\n",
        "sns.histplot(length_df[\"label_length\"], bins=50, kde=True, color=\"orange\", label=\"Label Lengths\")\n",
        "plt.legend()\n",
        "plt.title(\"Distribution of Tokenized Input and Label Lengths\")\n",
        "plt.xlabel(\"Token Count\")\n",
        "plt.ylabel(\"Frequency\")\n",
        "plt.grid(True)\n",
        "plt.show()\n",
        "\n",
        "# Descriptive stats\n",
        "length_df.describe()\n"
      ],
      "metadata": {
        "colab": {
          "base_uri": "https://localhost:8080/",
          "height": 770
        },
        "id": "7_76O4IvJGrP",
        "outputId": "e9875345-6e81-42de-e7c6-b8ac2fde022a"
      },
      "execution_count": 10,
      "outputs": [
        {
          "output_type": "display_data",
          "data": {
            "text/plain": [
              "<Figure size 1200x500 with 1 Axes>"
            ],
            "image/png": "[encoded data removed]"
          },
          "metadata": {}
        },
        {
          "output_type": "execute_result",
          "data": {
            "text/plain": [
              "       input_length  label_length\n",
              "count    5000.00000   5000.000000\n",
              "mean      813.62520     73.350400\n",
              "std       232.46541     24.217062\n",
              "min        80.00000     10.000000\n",
              "25%       630.75000     56.000000\n",
              "50%       894.00000     70.000000\n",
              "75%      1024.00000     88.000000\n",
              "max      1024.00000    128.000000"
            ],
            "text/html": [
              "\n",
              "  <div id=\"df-407557cb-48bb-4a2f-9146-24bb0c0abfbc\" class=\"colab-df-container\">\n",
              "    <div>\n",
              "<style scoped>\n",
              "    .dataframe tbody tr th:only-of-type {\n",
              "        vertical-align: middle;\n",
              "    }\n",
              "\n",
              "    .dataframe tbody tr th {\n",
              "        vertical-align: top;\n",
              "    }\n",
              "\n",
              "    .dataframe thead th {\n",
              "        text-align: right;\n",
              "    }\n",
              "</style>\n",
              "<table border=\"1\" class=\"dataframe\">\n",
              "  <thead>\n",
              "    <tr style=\"text-align: right;\">\n",
              "      <th></th>\n",
              "      <th>input_length</th>\n",
              "      <th>label_length</th>\n",
              "    </tr>\n",
              "  </thead>\n",
              "  <tbody>\n",
              "    <tr>\n",
              "      <th>count</th>\n",
              "      <td>5000.00000</td>\n",
              "      <td>5000.000000</td>\n",
              "    </tr>\n",
              "    <tr>\n",
              "      <th>mean</th>\n",
              "      <td>813.62520</td>\n",
              "      <td>73.350400</td>\n",
              "    </tr>\n",
              "    <tr>\n",
              "      <th>std</th>\n",
              "      <td>232.46541</td>\n",
              "      <td>24.217062</td>\n",
              "    </tr>\n",
              "    <tr>\n",
              "      <th>min</th>\n",
              "      <td>80.00000</td>\n",
              "      <td>10.000000</td>\n",
              "    </tr>\n",
              "    <tr>\n",
              "      <th>25%</th>\n",
              "      <td>630.75000</td>\n",
              "      <td>56.000000</td>\n",
              "    </tr>\n",
              "    <tr>\n",
              "      <th>50%</th>\n",
              "      <td>894.00000</td>\n",
              "      <td>70.000000</td>\n",
              "    </tr>\n",
              "    <tr>\n",
              "      <th>75%</th>\n",
              "      <td>1024.00000</td>\n",
              "      <td>88.000000</td>\n",
              "    </tr>\n",
              "    <tr>\n",
              "      <th>max</th>\n",
              "      <td>1024.00000</td>\n",
              "      <td>128.000000</td>\n",
              "    </tr>\n",
              "  </tbody>\n",
              "</table>\n",
              "</div>\n",
              "    <div class=\"colab-df-buttons\">\n",
              "\n",
              "  <div class=\"colab-df-container\">\n",
              "    <button class=\"colab-df-convert\" onclick=\"convertToInteractive('df-407557cb-48bb-4a2f-9146-24bb0c0abfbc')\"\n",
              "            title=\"Convert this dataframe to an interactive table.\"\n",
              "            style=\"display:none;\">\n",
              "\n",
              "  <svg xmlns=\"http://www.w3.org/2000/svg\" height=\"24px\" viewBox=\"0 -960 960 960\">\n",
              "    <path d=\"M120-120v-720h720v720H120Zm60-500h600v-160H180v160Zm220 220h160v-160H400v160Zm0 220h160v-160H400v160ZM180-400h160v-160H180v160Zm440 0h160v-160H620v160ZM180-180h160v-160H180v160Zm440 0h160v-160H620v160Z\"/>\n",
              "  </svg>\n",
              "    </button>\n",
              "\n",
              "  <style>\n",
              "    .colab-df-container {\n",
              "      display:flex;\n",
              "      gap: 12px;\n",
              "    }\n",
              "\n",
              "    .colab-df-convert {\n",
              "      background-color: #E8F0FE;\n",
              "      border: none;\n",
              "      border-radius: 50%;\n",
              "      cursor: pointer;\n",
              "      display: none;\n",
              "      fill: #1967D2;\n",
              "      height: 32px;\n",
              "      padding: 0 0 0 0;\n",
              "      width: 32px;\n",
              "    }\n",
              "\n",
              "    .colab-df-convert:hover {\n",
              "      background-color: #E2EBFA;\n",
              "      box-shadow: 0px 1px 2px rgba(60, 64, 67, 0.3), 0px 1px 3px 1px rgba(60, 64, 67, 0.15);\n",
              "      fill: #174EA6;\n",
              "    }\n",
              "\n",
              "    .colab-df-buttons div {\n",
              "      margin-bottom: 4px;\n",
              "    }\n",
              "\n",
              "    [theme=dark] .colab-df-convert {\n",
              "      background-color: #3B4455;\n",
              "      fill: #D2E3FC;\n",
              "    }\n",
              "\n",
              "    [theme=dark] .colab-df-convert:hover {\n",
              "      background-color: #434B5C;\n",
              "      box-shadow: 0px 1px 3px 1px rgba(0, 0, 0, 0.15);\n",
              "      filter: drop-shadow(0px 1px 2px rgba(0, 0, 0, 0.3));\n",
              "      fill: #FFFFFF;\n",
              "    }\n",
              "  </style>\n",
              "\n",
              "    <script>\n",
              "      const buttonEl =\n",
              "        document.querySelector('#df-407557cb-48bb-4a2f-9146-24bb0c0abfbc button.colab-df-convert');\n",
              "      buttonEl.style.display =\n",
              "        google.colab.kernel.accessAllowed ? 'block' : 'none';\n",
              "\n",
              "      async function convertToInteractive(key) {\n",
              "        const element = document.querySelector('#df-407557cb-48bb-4a2f-9146-24bb0c0abfbc');\n",
              "        const dataTable =\n",
              "          await google.colab.kernel.invokeFunction('convertToInteractive',\n",
              "                                                    [key], {});\n",
              "        if (!dataTable) return;\n",
              "\n",
              "        const docLinkHtml = 'Like what you see? Visit the ' +\n",
              "          '<a target=\"_blank\" href=https://colab.research.google.com/notebooks/data_table.ipynb>data table notebook</a>'\n",
              "          + ' to learn more about interactive tables.';\n",
              "        element.innerHTML = '';\n",
              "        dataTable['output_type'] = 'display_data';\n",
              "        await google.colab.output.renderOutput(dataTable, element);\n",
              "        const docLink = document.createElement('div');\n",
              "        docLink.innerHTML = docLinkHtml;\n",
              "        element.appendChild(docLink);\n",
              "      }\n",
              "    </script>\n",
              "  </div>\n",
              "\n",
              "\n",
              "    <div id=\"df-177b422f-2e04-4e5b-9414-430358813724\">\n",
              "      <button class=\"colab-df-quickchart\" onclick=\"quickchart('df-177b422f-2e04-4e5b-9414-430358813724')\"\n",
              "                title=\"Suggest charts\"\n",
              "                style=\"display:none;\">\n",
              "\n",
              "<svg xmlns=\"http://www.w3.org/2000/svg\" height=\"24px\"viewBox=\"0 0 24 24\"\n",
              "     width=\"24px\">\n",
              "    <g>\n",
              "        <path d=\"M19 3H5c-1.1 0-2 .9-2 2v14c0 1.1.9 2 2 2h14c1.1 0 2-.9 2-2V5c0-1.1-.9-2-2-2zM9 17H7v-7h2v7zm4 0h-2V7h2v10zm4 0h-2v-4h2v4z\"/>\n",
              "    </g>\n",
              "</svg>\n",
              "      </button>\n",
              "\n",
              "<style>\n",
              "  .colab-df-quickchart {\n",
              "      --bg-color: #E8F0FE;\n",
              "      --fill-color: #1967D2;\n",
              "      --hover-bg-color: #E2EBFA;\n",
              "      --hover-fill-color: #174EA6;\n",
              "      --disabled-fill-color: #AAA;\n",
              "      --disabled-bg-color: #DDD;\n",
              "  }\n",
              "\n",
              "  [theme=dark] .colab-df-quickchart {\n",
              "      --bg-color: #3B4455;\n",
              "      --fill-color: #D2E3FC;\n",
              "      --hover-bg-color: #434B5C;\n",
              "      --hover-fill-color: #FFFFFF;\n",
              "      --disabled-bg-color: #3B4455;\n",
              "      --disabled-fill-color: #666;\n",
              "  }\n",
              "\n",
              "  .colab-df-quickchart {\n",
              "    background-color: var(--bg-color);\n",
              "    border: none;\n",
              "    border-radius: 50%;\n",
              "    cursor: pointer;\n",
              "    display: none;\n",
              "    fill: var(--fill-color);\n",
              "    height: 32px;\n",
              "    padding: 0;\n",
              "    width: 32px;\n",
              "  }\n",
              "\n",
              "  .colab-df-quickchart:hover {\n",
              "    background-color: var(--hover-bg-color);\n",
              "    box-shadow: 0 1px 2px rgba(60, 64, 67, 0.3), 0 1px 3px 1px rgba(60, 64, 67, 0.15);\n",
              "    fill: var(--button-hover-fill-color);\n",
              "  }\n",
              "\n",
              "  .colab-df-quickchart-complete:disabled,\n",
              "  .colab-df-quickchart-complete:disabled:hover {\n",
              "    background-color: var(--disabled-bg-color);\n",
              "    fill: var(--disabled-fill-color);\n",
              "    box-shadow: none;\n",
              "  }\n",
              "\n",
              "  .colab-df-spinner {\n",
              "    border: 2px solid var(--fill-color);\n",
              "    border-color: transparent;\n",
              "    border-bottom-color: var(--fill-color);\n",
              "    animation:\n",
              "      spin 1s steps(1) infinite;\n",
              "  }\n",
              "\n",
              "  @keyframes spin {\n",
              "    0% {\n",
              "      border-color: transparent;\n",
              "      border-bottom-color: var(--fill-color);\n",
              "      border-left-color: var(--fill-color);\n",
              "    }\n",
              "    20% {\n",
              "      border-color: transparent;\n",
              "      border-left-color: var(--fill-color);\n",
              "      border-top-color: var(--fill-color);\n",
              "    }\n",
              "    30% {\n",
              "      border-color: transparent;\n",
              "      border-left-color: var(--fill-color);\n",
              "      border-top-color: var(--fill-color);\n",
              "      border-right-color: var(--fill-color);\n",
              "    }\n",
              "    40% {\n",
              "      border-color: transparent;\n",
              "      border-right-color: var(--fill-color);\n",
              "      border-top-color: var(--fill-color);\n",
              "    }\n",
              "    60% {\n",
              "      border-color: transparent;\n",
              "      border-right-color: var(--fill-color);\n",
              "    }\n",
              "    80% {\n",
              "      border-color: transparent;\n",
              "      border-right-color: var(--fill-color);\n",
              "      border-bottom-color: var(--fill-color);\n",
              "    }\n",
              "    90% {\n",
              "      border-color: transparent;\n",
              "      border-bottom-color: var(--fill-color);\n",
              "    }\n",
              "  }\n",
              "</style>\n",
              "\n",
              "      <script>\n",
              "        async function quickchart(key) {\n",
              "          const quickchartButtonEl =\n",
              "            document.querySelector('#' + key + ' button');\n",
              "          quickchartButtonEl.disabled = true;  // To prevent multiple clicks.\n",
              "          quickchartButtonEl.classList.add('colab-df-spinner');\n",
              "          try {\n",
              "            const charts = await google.colab.kernel.invokeFunction(\n",
              "                'suggestCharts', [key], {});\n",
              "          } catch (error) {\n",
              "            console.error('Error during call to suggestCharts:', error);\n",
              "          }\n",
              "          quickchartButtonEl.classList.remove('colab-df-spinner');\n",
              "          quickchartButtonEl.classList.add('colab-df-quickchart-complete');\n",
              "        }\n",
              "        (() => {\n",
              "          let quickchartButtonEl =\n",
              "            document.querySelector('#df-177b422f-2e04-4e5b-9414-430358813724 button');\n",
              "          quickchartButtonEl.style.display =\n",
              "            google.colab.kernel.accessAllowed ? 'block' : 'none';\n",
              "        })();\n",
              "      </script>\n",
              "    </div>\n",
              "\n",
              "    </div>\n",
              "  </div>\n"
            ],
            "application/vnd.google.colaboratory.intrinsic+json": {
              "type": "dataframe",
              "summary": "{\n  \"name\": \"length_df\",\n  \"rows\": 8,\n  \"fields\": [\n    {\n      \"column\": \"input_length\",\n      \"properties\": {\n        \"dtype\": \"number\",\n        \"std\": 1570.1783815186623,\n        \"min\": 80.0,\n        \"max\": 5000.0,\n        \"num_unique_values\": 7,\n        \"samples\": [\n          5000.0,\n          813.6252,\n          894.0\n        ],\n        \"semantic_type\": \"\",\n        \"description\": \"\"\n      }\n    },\n    {\n      \"column\": \"label_length\",\n      \"properties\": {\n        \"dtype\": \"number\",\n        \"std\": 1745.4433557260352,\n        \"min\": 10.0,\n        \"max\": 5000.0,\n        \"num_unique_values\": 8,\n        \"samples\": [\n          73.3504,\n          70.0,\n          5000.0\n        ],\n        \"semantic_type\": \"\",\n        \"description\": \"\"\n      }\n    }\n  ]\n}"
            }
          },
          "metadata": {},
          "execution_count": 10
        }
      ]
    },
    {
      "cell_type": "code",
      "source": [
        "!pip install --upgrade transformers --quiet"
      ],
      "metadata": {
        "id": "TZUK7FxIJx0z"
      },
      "execution_count": 11,
      "outputs": []
    },
    {
      "cell_type": "code",
      "source": [
        "import transformers\n",
        "print(transformers.__version__)"
      ],
      "metadata": {
        "colab": {
          "base_uri": "https://localhost:8080/"
        },
        "id": "BwSZ3M7ZKCwz",
        "outputId": "86b762c6-d447-4d74-dc47-2abfe92447da"
      },
      "execution_count": 12,
      "outputs": [
        {
          "output_type": "stream",
          "name": "stdout",
          "text": [
            "4.52.4\n"
          ]
        }
      ]
    },
    {
      "cell_type": "code",
      "source": [
        "!pip uninstall -y transformers\n"
      ],
      "metadata": {
        "colab": {
          "base_uri": "https://localhost:8080/"
        },
        "id": "NWRGQDQWKY7A",
        "outputId": "669ad9a3-5fb0-4291-f4e3-b931b6cff07c"
      },
      "execution_count": 13,
      "outputs": [
        {
          "output_type": "stream",
          "name": "stdout",
          "text": [
            "Found existing installation: transformers 4.52.4\n",
            "Uninstalling transformers-4.52.4:\n",
            "  Successfully uninstalled transformers-4.52.4\n"
          ]
        }
      ]
    },
    {
      "cell_type": "code",
      "source": [
        "!pip cache purge"
      ],
      "metadata": {
        "colab": {
          "base_uri": "https://localhost:8080/"
        },
        "id": "AD2BQYNRKjqe",
        "outputId": "e27d2d73-3258-44cd-c602-d90a09d55cbc"
      },
      "execution_count": 14,
      "outputs": [
        {
          "output_type": "stream",
          "name": "stdout",
          "text": [
            "Files removed: 12\n"
          ]
        }
      ]
    },
    {
      "cell_type": "code",
      "source": [
        "!pip install transformers==4.41.1 --quiet"
      ],
      "metadata": {
        "colab": {
          "base_uri": "https://localhost:8080/"
        },
        "id": "qihOLR5rKlPr",
        "outputId": "3cc23680-5fa4-41fa-c872-301410537a8e"
      },
      "execution_count": 15,
      "outputs": [
        {
          "output_type": "stream",
          "name": "stdout",
          "text": [
            "\u001b[?25l     \u001b[90m━━━━━━━━━━━━━━━━━━━━━━━━━━━━━━━━━━━━━━━━\u001b[0m \u001b[32m0.0/43.8 kB\u001b[0m \u001b[31m?\u001b[0m eta \u001b[36m-:--:--\u001b[0m\r\u001b[2K     \u001b[90m━━━━━━━━━━━━━━━━━━━━━━━━━━━━━━━━━━━━━━━━\u001b[0m \u001b[32m43.8/43.8 kB\u001b[0m \u001b[31m2.7 MB/s\u001b[0m eta \u001b[36m0:00:00\u001b[0m\n",
            "\u001b[?25hTraceback (most recent call last):\n",
            "  File \"/usr/local/lib/python3.11/dist-packages/pip/_internal/cli/base_command.py\", line 179, in exc_logging_wrapper\n",
            "    status = run_func(*args)\n",
            "             ^^^^^^^^^^^^^^^\n",
            "  File \"/usr/local/lib/python3.11/dist-packages/pip/_internal/cli/req_command.py\", line 67, in wrapper\n",
            "    return func(self, options, args)\n",
            "           ^^^^^^^^^^^^^^^^^^^^^^^^^\n",
            "  File \"/usr/local/lib/python3.11/dist-packages/pip/_internal/commands/install.py\", line 377, in run\n",
            "    requirement_set = resolver.resolve(\n",
            "                      ^^^^^^^^^^^^^^^^^\n",
            "  File \"/usr/local/lib/python3.11/dist-packages/pip/_internal/resolution/resolvelib/resolver.py\", line 95, in resolve\n",
            "    result = self._result = resolver.resolve(\n",
            "                            ^^^^^^^^^^^^^^^^^\n",
            "  File \"/usr/local/lib/python3.11/dist-packages/pip/_vendor/resolvelib/resolvers.py\", line 546, in resolve\n",
            "    state = resolution.resolve(requirements, max_rounds=max_rounds)\n",
            "            ^^^^^^^^^^^^^^^^^^^^^^^^^^^^^^^^^^^^^^^^^^^^^^^^^^^^^^^\n",
            "  File \"/usr/local/lib/python3.11/dist-packages/pip/_vendor/resolvelib/resolvers.py\", line 427, in resolve\n",
            "    failure_causes = self._attempt_to_pin_criterion(name)\n",
            "                     ^^^^^^^^^^^^^^^^^^^^^^^^^^^^^^^^^^^^\n",
            "  File \"/usr/local/lib/python3.11/dist-packages/pip/_vendor/resolvelib/resolvers.py\", line 239, in _attempt_to_pin_criterion\n",
            "    criteria = self._get_updated_criteria(candidate)\n",
            "               ^^^^^^^^^^^^^^^^^^^^^^^^^^^^^^^^^^^^^\n",
            "  File \"/usr/local/lib/python3.11/dist-packages/pip/_vendor/resolvelib/resolvers.py\", line 229, in _get_updated_criteria\n",
            "    for requirement in self._p.get_dependencies(candidate=candidate):\n",
            "                       ^^^^^^^^^^^^^^^^^^^^^^^^^^^^^^^^^^^^^^^^^^^^^\n",
            "  File \"/usr/local/lib/python3.11/dist-packages/pip/_internal/resolution/resolvelib/provider.py\", line 247, in get_dependencies\n",
            "    return [r for r in candidate.iter_dependencies(with_requires) if r is not None]\n",
            "           ^^^^^^^^^^^^^^^^^^^^^^^^^^^^^^^^^^^^^^^^^^^^^^^^^^^^^^^^^^^^^^^^^^^^^^^^\n",
            "  File \"/usr/local/lib/python3.11/dist-packages/pip/_internal/resolution/resolvelib/provider.py\", line 247, in <listcomp>\n",
            "    return [r for r in candidate.iter_dependencies(with_requires) if r is not None]\n",
            "           ^^^^^^^^^^^^^^^^^^^^^^^^^^^^^^^^^^^^^^^^^^^^^^^^^^^^^^^^^^^^^^^^^^^^^^^^\n",
            "  File \"/usr/local/lib/python3.11/dist-packages/pip/_internal/resolution/resolvelib/candidates.py\", line 401, in iter_dependencies\n",
            "    for r in self.dist.iter_dependencies():\n",
            "  File \"/usr/local/lib/python3.11/dist-packages/pip/_internal/metadata/importlib/_dists.py\", line 222, in iter_dependencies\n",
            "    req = Requirement(req_string.strip())\n",
            "          ^^^^^^^^^^^^^^^^^^^^^^^^^^^^^^^\n",
            "  File \"/usr/local/lib/python3.11/dist-packages/pip/_vendor/packaging/requirements.py\", line 43, in __init__\n",
            "    self.specifier: SpecifierSet = SpecifierSet(parsed.specifier)\n",
            "                                   ^^^^^^^^^^^^^^^^^^^^^^^^^^^^^^\n",
            "  File \"/usr/local/lib/python3.11/dist-packages/pip/_vendor/packaging/specifiers.py\", line 718, in __init__\n",
            "    self._specs = frozenset(map(Specifier, split_specifiers))\n",
            "                  ^^^^^^^^^^^^^^^^^^^^^^^^^^^^^^^^^^^^^^^^^^^\n",
            "  File \"/usr/local/lib/python3.11/dist-packages/pip/_vendor/packaging/specifiers.py\", line 331, in __hash__\n",
            "    return hash(self._canonical_spec)\n",
            "                ^^^^^^^^^^^^^^^^^^^^\n",
            "  File \"/usr/local/lib/python3.11/dist-packages/pip/_vendor/packaging/specifiers.py\", line 324, in _canonical_spec\n",
            "    canonical_version = canonicalize_version(\n",
            "                        ^^^^^^^^^^^^^^^^^^^^^\n",
            "  File \"/usr/local/lib/python3.11/dist-packages/pip/_vendor/packaging/utils.py\", line 91, in canonicalize_version\n",
            "    if parsed.post is not None:\n",
            "       ^^^^^^^^^^^\n",
            "  File \"/usr/local/lib/python3.11/dist-packages/pip/_vendor/packaging/version.py\", line 309, in post\n",
            "    @property\n",
            "\n",
            "KeyboardInterrupt\n",
            "\n",
            "During handling of the above exception, another exception occurred:\n",
            "\n",
            "Traceback (most recent call last):\n",
            "  File \"/usr/local/bin/pip3\", line 10, in <module>\n",
            "    sys.exit(main())\n",
            "             ^^^^^^\n",
            "  File \"/usr/local/lib/python3.11/dist-packages/pip/_internal/cli/main.py\", line 80, in main\n",
            "    return command.main(cmd_args)\n",
            "           ^^^^^^^^^^^^^^^^^^^^^^\n",
            "  File \"/usr/local/lib/python3.11/dist-packages/pip/_internal/cli/base_command.py\", line 100, in main\n",
            "    return self._main(args)\n",
            "           ^^^^^^^^^^^^^^^^\n",
            "  File \"/usr/local/lib/python3.11/dist-packages/pip/_internal/cli/base_command.py\", line 232, in _main\n",
            "    return run(options, args)\n",
            "           ^^^^^^^^^^^^^^^^^^\n",
            "  File \"/usr/local/lib/python3.11/dist-packages/pip/_internal/cli/base_command.py\", line 215, in exc_logging_wrapper\n",
            "    logger.critical(\"Operation cancelled by user\")\n",
            "  File \"/usr/lib/python3.11/logging/__init__.py\", line 1536, in critical\n",
            "    self._log(CRITICAL, msg, args, **kwargs)\n",
            "  File \"/usr/lib/python3.11/logging/__init__.py\", line 1634, in _log\n",
            "    self.handle(record)\n",
            "  File \"/usr/lib/python3.11/logging/__init__.py\", line 1644, in handle\n",
            "    self.callHandlers(record)\n",
            "  File \"/usr/lib/python3.11/logging/__init__.py\", line -1, in callHandlers\n",
            "KeyboardInterrupt\n",
            "^C\n"
          ]
        },
        {
          "output_type": "stream",
          "name": "stderr",
          "text": [
            "Exception ignored in: <function tqdm.__del__ at 0x7b86014cae80>\n",
            "Traceback (most recent call last):\n",
            "  File \"/usr/local/lib/python3.11/dist-packages/tqdm/std.py\", line 1147, in __del__\n",
            "    def __del__(self):\n",
            "\n",
            "KeyboardInterrupt: \n"
          ]
        }
      ]
    },
    {
      "cell_type": "code",
      "source": [
        "import transformers\n",
        "print(transformers.__version__)"
      ],
      "metadata": {
        "colab": {
          "base_uri": "https://localhost:8080/"
        },
        "id": "foMxfQD4K94v",
        "outputId": "99e6b49b-dc6d-49ad-de2d-dbf59a68ddd9"
      },
      "execution_count": 16,
      "outputs": [
        {
          "output_type": "stream",
          "name": "stdout",
          "text": [
            "4.52.4\n"
          ]
        }
      ]
    },
    {
      "cell_type": "code",
      "source": [
        "from transformers import (\n",
        "    T5Tokenizer,\n",
        "    T5ForConditionalGeneration,\n",
        "    TrainingArguments,\n",
        "    Trainer\n",
        ")\n"
      ],
      "metadata": {
        "id": "DINQm7HTLMuW"
      },
      "execution_count": 17,
      "outputs": []
    },
    {
      "cell_type": "code",
      "source": [
        "\n",
        "# Load pre-trained model\n",
        "model = T5ForConditionalGeneration.from_pretrained(\"t5-small\")\n",
        "tokenizer = T5Tokenizer.from_pretrained(\"t5-small\")\n",
        "\n",
        "training_args = TrainingArguments(\n",
        "    output_dir=\"./t5_summarizer\",\n",
        "    per_device_train_batch_size=4,\n",
        "    per_device_eval_batch_size=4,\n",
        "    num_train_epochs=3,\n",
        "    logging_dir=\"./logs\",\n",
        "    save_total_limit=2,\n",
        "    save_strategy=\"epoch\",\n",
        "    learning_rate=3e-4,\n",
        "    weight_decay=0.01,\n",
        "    fp16=True,\n",
        "    report_to=\"none\"\n",
        ")\n",
        "\n",
        "\n",
        "# Split dataset\n",
        "tokenized_dataset = tokenized_dataset.train_test_split(test_size=0.1)\n",
        "train_set = tokenized_dataset[\"train\"]\n",
        "val_set = tokenized_dataset[\"test\"]\n",
        "\n",
        "# Trainer setup\n",
        "trainer = Trainer(\n",
        "    model=model,\n",
        "    args=training_args,\n",
        "    train_dataset=train_set,\n",
        "    eval_dataset=val_set,\n",
        "    tokenizer=tokenizer\n",
        ")\n",
        "\n",
        "# Train the model\n",
        "trainer.train()\n"
      ],
      "metadata": {
        "colab": {
          "base_uri": "https://localhost:8080/",
          "height": 337
        },
        "id": "CaRCX6AFJksK",
        "outputId": "41c6395b-d99e-43b7-a172-8fd4fca99e0b"
      },
      "execution_count": 18,
      "outputs": [
        {
          "output_type": "stream",
          "name": "stderr",
          "text": [
            "/tmp/ipython-input-18-4281798938.py:26: FutureWarning: `tokenizer` is deprecated and will be removed in version 5.0.0 for `Trainer.__init__`. Use `processing_class` instead.\n",
            "  trainer = Trainer(\n",
            "Passing a tuple of `past_key_values` is deprecated and will be removed in Transformers v4.48.0. You should pass an instance of `EncoderDecoderCache` instead, e.g. `past_key_values=EncoderDecoderCache.from_legacy_cache(past_key_values)`.\n"
          ]
        },
        {
          "output_type": "display_data",
          "data": {
            "text/plain": [
              "<IPython.core.display.HTML object>"
            ],
            "text/html": [
              "\n",
              "    <div>\n",
              "      \n",
              "      <progress value='3375' max='3375' style='width:300px; height:20px; vertical-align: middle;'></progress>\n",
              "      [3375/3375 05:20, Epoch 3/3]\n",
              "    </div>\n",
              "    <table border=\"1\" class=\"dataframe\">\n",
              "  <thead>\n",
              " <tr style=\"text-align: left;\">\n",
              "      <th>Step</th>\n",
              "      <th>Training Loss</th>\n",
              "    </tr>\n",
              "  </thead>\n",
              "  <tbody>\n",
              "    <tr>\n",
              "      <td>500</td>\n",
              "      <td>1.232100</td>\n",
              "    </tr>\n",
              "    <tr>\n",
              "      <td>1000</td>\n",
              "      <td>1.111500</td>\n",
              "    </tr>\n",
              "    <tr>\n",
              "      <td>1500</td>\n",
              "      <td>1.046600</td>\n",
              "    </tr>\n",
              "    <tr>\n",
              "      <td>2000</td>\n",
              "      <td>0.989100</td>\n",
              "    </tr>\n",
              "    <tr>\n",
              "      <td>2500</td>\n",
              "      <td>0.994000</td>\n",
              "    </tr>\n",
              "    <tr>\n",
              "      <td>3000</td>\n",
              "      <td>0.941600</td>\n",
              "    </tr>\n",
              "  </tbody>\n",
              "</table><p>"
            ]
          },
          "metadata": {}
        },
        {
          "output_type": "execute_result",
          "data": {
            "text/plain": [
              "TrainOutput(global_step=3375, training_loss=1.039928756148727, metrics={'train_runtime': 322.5229, 'train_samples_per_second': 41.857, 'train_steps_per_second': 10.464, 'total_flos': 3654228639744000.0, 'train_loss': 1.039928756148727, 'epoch': 3.0})"
            ]
          },
          "metadata": {},
          "execution_count": 18
        }
      ]
    },
    {
      "cell_type": "code",
      "source": [
        "!pip install datasets rouge-score --quiet\n",
        "from datasets import load_metric\n",
        "from tqdm import tqdm"
      ],
      "metadata": {
        "colab": {
          "base_uri": "https://localhost:8080/"
        },
        "id": "fmOkkrgIOZ4T",
        "outputId": "16894133-0e56-4e8b-d19f-a1223978a7cb"
      },
      "execution_count": 23,
      "outputs": [
        {
          "output_type": "stream",
          "name": "stdout",
          "text": [
            "  Preparing metadata (setup.py) ... \u001b[?25l\u001b[?25hdone\n",
            "  Building wheel for rouge-score (setup.py) ... \u001b[?25l\u001b[?25hdone\n"
          ]
        }
      ]
    },
    {
      "cell_type": "code",
      "source": [
        "# Load raw validation data from Drive\n",
        "val_path = \"/content/drive/MyDrive/Datasets/validation-00000-of-00001.parquet\"\n",
        "val_df = pd.read_parquet(val_path)\n",
        "\n",
        "# Optional: Sample a subset if too large\n",
        "val_df = val_df.sample(n=200, random_state=42).reset_index(drop=True)\n",
        "\n",
        "# Convert to HuggingFace Dataset\n",
        "val_set_raw = Dataset.from_pandas(val_df)\n"
      ],
      "metadata": {
        "id": "EPDJhUDsPKKB"
      },
      "execution_count": 34,
      "outputs": []
    },
    {
      "cell_type": "code",
      "source": [
        "from datasets import load_metric\n",
        "from tqdm import tqdm\n",
        "from transformers import T5Tokenizer, T5ForConditionalGeneration\n",
        "\n",
        "rouge = load_metric(\"rouge\")\n",
        "\n",
        "def evaluate_model(model, tokenizer, dataset, num_samples=200):\n",
        "    preds, refs, articles = [], [], []\n",
        "\n",
        "    for example in tqdm(dataset.select(range(num_samples))):\n",
        "        input_text = \"summarize: \" + example[\"article\"]\n",
        "        inputs = tokenizer(input_text, return_tensors=\"pt\", max_length=512, truncation=True, padding=\"max_length\")\n",
        "        output_ids = model.generate(\n",
        "            inputs.input_ids,\n",
        "            max_length=128,\n",
        "            num_beams=4,\n",
        "            early_stopping=True,\n",
        "            no_repeat_ngram_size=2\n",
        "        )\n",
        "        summary = tokenizer.decode(output_ids[0], skip_special_tokens=True)\n",
        "        preds.append(summary)\n",
        "        refs.append(example[\"highlights\"])\n",
        "        articles.append(example[\"article\"])\n",
        "\n",
        "    rouge_result = rouge.compute(predictions=preds, references=refs, use_stemmer=True)\n",
        "    return rouge_result, preds, refs, articles\n",
        "\n",
        "results, predictions, references, articles = evaluate_model(model, tokenizer, val_set_raw, num_samples=200)\n"
      ],
      "metadata": {
        "colab": {
          "base_uri": "https://localhost:8080/"
        },
        "id": "AEismzYkPPyp",
        "outputId": "e579d04e-baf6-4291-b508-1cf5eea43329"
      },
      "execution_count": 35,
      "outputs": [
        {
          "output_type": "stream",
          "name": "stderr",
          "text": [
            "100%|██████████| 200/200 [08:38<00:00,  2.59s/it]\n"
          ]
        }
      ]
    },
    {
      "cell_type": "code",
      "source": [
        "import matplotlib.pyplot as plt\n",
        "\n",
        "scores = {key: results[key].mid.fmeasure for key in results.keys()}\n",
        "\n",
        "# Bar Chart\n",
        "plt.figure(figsize=(8, 5))\n",
        "plt.bar(scores.keys(), scores.values(), color=[\"skyblue\", \"orange\", \"lightgreen\"])\n",
        "plt.title(\"ROUGE Evaluation Scores (F1)\")\n",
        "plt.ylabel(\"F1 Score\")\n",
        "plt.ylim(0, 1)\n",
        "plt.grid(axis=\"y\")\n",
        "plt.show()\n",
        "\n",
        "# Print all scores\n",
        "for key, score in results.items():\n",
        "    print(f\"\\n{key.upper()}:\\n\"\n",
        "          f\"  Precision: {score.mid.precision:.4f}\\n\"\n",
        "          f\"  Recall:    {score.mid.recall:.4f}\\n\"\n",
        "          f\"  F1 Score:  {score.mid.fmeasure:.4f}\")\n"
      ],
      "metadata": {
        "colab": {
          "base_uri": "https://localhost:8080/",
          "height": 825
        },
        "id": "cx6mTNubRT19",
        "outputId": "54a9f2c7-dd0e-46f6-f774-1d556fcc8d66"
      },
      "execution_count": 36,
      "outputs": [
        {
          "output_type": "display_data",
          "data": {
            "text/plain": [
              "<Figure size 800x500 with 1 Axes>"
            ],
            "image/png": "[encoded data removed]"
          },
          "metadata": {}
        },
        {
          "output_type": "stream",
          "name": "stdout",
          "text": [
            "\n",
            "ROUGE1:\n",
            "  Precision: 0.3965\n",
            "  Recall:    0.4527\n",
            "  F1 Score:  0.4027\n",
            "\n",
            "ROUGE2:\n",
            "  Precision: 0.1832\n",
            "  Recall:    0.2068\n",
            "  F1 Score:  0.1848\n",
            "\n",
            "ROUGEL:\n",
            "  Precision: 0.2654\n",
            "  Recall:    0.3028\n",
            "  F1 Score:  0.2694\n",
            "\n",
            "ROUGELSUM:\n",
            "  Precision: 0.3339\n",
            "  Recall:    0.3775\n",
            "  F1 Score:  0.3376\n"
          ]
        }
      ]
    },
    {
      "cell_type": "code",
      "source": [
        "import pandas as pd\n",
        "\n",
        "# Create summary table\n",
        "summary_df = pd.DataFrame({\n",
        "    \"Article\": articles,\n",
        "    \"Reference Summary\": references,\n",
        "    \"Predicted Summary\": predictions,\n",
        "    \"Ref Length\": [len(ref.split()) for ref in references],\n",
        "    \"Pred Length\": [len(pred.split()) for pred in predictions],\n",
        "})\n",
        "\n",
        "# Add compression ratio\n",
        "summary_df[\"Compression Ratio\"] = summary_df[\"Pred Length\"] / summary_df[\"Ref Length\"]\n",
        "\n",
        "# Show stats\n",
        "print(summary_df[[\"Ref Length\", \"Pred Length\", \"Compression Ratio\"]].describe())\n"
      ],
      "metadata": {
        "colab": {
          "base_uri": "https://localhost:8080/"
        },
        "id": "FrB4raCMRYcZ",
        "outputId": "1e2e3944-bce8-42ca-a16c-ded8f699108b"
      },
      "execution_count": 37,
      "outputs": [
        {
          "output_type": "stream",
          "name": "stdout",
          "text": [
            "       Ref Length  Pred Length  Compression Ratio\n",
            "count  200.000000   200.000000         200.000000\n",
            "mean    61.160000    63.190000           1.193233\n",
            "std     33.748172    18.969531           0.513773\n",
            "min     21.000000    19.000000           0.156658\n",
            "25%     41.000000    49.000000           0.793608\n",
            "50%     54.000000    63.000000           1.113942\n",
            "75%     73.250000    76.250000           1.521372\n",
            "max    383.000000   105.000000           2.523810\n"
          ]
        }
      ]
    },
    {
      "cell_type": "code",
      "source": [
        "import seaborn as sns\n",
        "\n",
        "plt.figure(figsize=(10, 5))\n",
        "sns.boxplot(data=summary_df[[\"Ref Length\", \"Pred Length\"]])\n",
        "plt.title(\"Reference vs Predicted Summary Lengths\")\n",
        "plt.ylabel(\"Token Count\")\n",
        "plt.grid(True)\n",
        "plt.show()\n"
      ],
      "metadata": {
        "colab": {
          "base_uri": "https://localhost:8080/",
          "height": 468
        },
        "id": "2QqqZ7NrRanb",
        "outputId": "4b6752e0-d7ee-492c-9cf7-aa7ca5d6eebe"
      },
      "execution_count": 38,
      "outputs": [
        {
          "output_type": "display_data",
          "data": {
            "text/plain": [
              "<Figure size 1000x500 with 1 Axes>"
            ],
            "image/png": "[encoded data removed]"
          },
          "metadata": {}
        }
      ]
    },
    {
      "cell_type": "code",
      "source": [
        "model_path = \"./t5_summarizer_model\"\n",
        "model.save_pretrained(model_path)\n",
        "tokenizer.save_pretrained(model_path)\n"
      ],
      "metadata": {
        "colab": {
          "base_uri": "https://localhost:8080/"
        },
        "id": "0nsFgy0GNiar",
        "outputId": "d241b1c6-9c4f-4bca-9032-e470dc6a225d"
      },
      "execution_count": 19,
      "outputs": [
        {
          "output_type": "execute_result",
          "data": {
            "text/plain": [
              "('./t5_summarizer_model/tokenizer_config.json',\n",
              " './t5_summarizer_model/special_tokens_map.json',\n",
              " './t5_summarizer_model/spiece.model',\n",
              " './t5_summarizer_model/added_tokens.json')"
            ]
          },
          "metadata": {},
          "execution_count": 19
        }
      ]
    },
    {
      "cell_type": "code",
      "source": [
        "model_path = \"/content/drive/MyDrive/t5_summarizer_model\"\n",
        "model.save_pretrained(model_path)\n",
        "tokenizer.save_pretrained(model_path)\n"
      ],
      "metadata": {
        "colab": {
          "base_uri": "https://localhost:8080/"
        },
        "id": "0uRJKbfONrAB",
        "outputId": "bc69e87b-a3f9-49b6-b5f0-366fe2e5574d"
      },
      "execution_count": 20,
      "outputs": [
        {
          "output_type": "execute_result",
          "data": {
            "text/plain": [
              "('/content/drive/MyDrive/t5_summarizer_model/tokenizer_config.json',\n",
              " '/content/drive/MyDrive/t5_summarizer_model/special_tokens_map.json',\n",
              " '/content/drive/MyDrive/t5_summarizer_model/spiece.model',\n",
              " '/content/drive/MyDrive/t5_summarizer_model/added_tokens.json')"
            ]
          },
          "metadata": {},
          "execution_count": 20
        }
      ]
    },
    {
      "cell_type": "code",
      "source": [
        "import gradio as gr"
      ],
      "metadata": {
        "id": "niUYIdMRNz_J"
      },
      "execution_count": 21,
      "outputs": []
    },
    {
      "cell_type": "code",
      "source": [
        "# Load from your saved directory\n",
        "model = T5ForConditionalGeneration.from_pretrained(\"./t5_summarizer_model\")\n",
        "tokenizer = T5Tokenizer.from_pretrained(\"./t5_summarizer_model\")\n",
        "\n",
        "# Define prediction function\n",
        "def summarize_article(text, max_input_len, max_summary_len, beam_width):\n",
        "    input_text = \"summarize: \" + text.strip()\n",
        "    input_ids = tokenizer.encode(input_text, return_tensors=\"pt\", truncation=True, padding=\"max_length\", max_length=max_input_len)\n",
        "    output_ids = model.generate(\n",
        "        input_ids,\n",
        "        max_length=max_summary_len,\n",
        "        num_beams=beam_width,\n",
        "        repetition_penalty=1.5,\n",
        "        length_penalty=1.0,\n",
        "        no_repeat_ngram_size=2,\n",
        "        early_stopping=True\n",
        "    )\n",
        "    return tokenizer.decode(output_ids[0], skip_special_tokens=True)\n",
        "\n",
        "# Launch the fancy Gradio UI\n",
        "gr.Interface(\n",
        "    fn=summarize_article,\n",
        "    inputs=[\n",
        "        gr.Textbox(label=\"📰 Input Article\", lines=15, placeholder=\"Paste article here...\"),\n",
        "        gr.Slider(128, 1024, value=512, step=64, label=\"📏 Max Input Length\"),\n",
        "        gr.Slider(32, 256, value=128, step=16, label=\"📝 Max Summary Length\"),\n",
        "        gr.Slider(1, 8, value=4, step=1, label=\"🔍 Beam Width\")\n",
        "    ],\n",
        "    outputs=gr.Textbox(label=\"🧠 Generated Summary\"),\n",
        "    title=\"T5-Small Summarizer 🧠\",\n",
        "    description=\"Custom fine-tuned news summarizer built on T5-Small. Paste long text and tweak generation parameters.\",\n",
        "    theme=\"soft\",\n",
        "    examples=[\n",
        "        [\"The US economy expanded at a 3% annual rate...\", 512, 128, 4],\n",
        "        [\"Scientists discovered a new species of frog...\", 512, 64, 2]\n",
        "    ]\n",
        ").launch(share=True)  # use share=True for public link (Colab only)\n"
      ],
      "metadata": {
        "colab": {
          "base_uri": "https://localhost:8080/",
          "height": 592
        },
        "id": "f9ZMVYgQN1jj",
        "outputId": "5d1c7e08-9b92-4d2b-e5b2-1d15e07a95a9"
      },
      "execution_count": 22,
      "outputs": [
        {
          "output_type": "stream",
          "name": "stdout",
          "text": [
            "Colab notebook detected. To show errors in colab notebook, set debug=True in launch()\n",
            "* Running on public URL: https://fd428b023e0131498c.gradio.live\n",
            "\n",
            "This share link expires in 1 week. For free permanent hosting and GPU upgrades, run `gradio deploy` from the terminal in the working directory to deploy to Hugging Face Spaces (https://huggingface.co/spaces)\n"
          ]
        },
        {
          "output_type": "display_data",
          "data": {
            "text/plain": [
              "<IPython.core.display.HTML object>"
            ],
            "text/html": [
              "<div><iframe src=\"https://fd428b023e0131498c.gradio.live\" width=\"100%\" height=\"500\" allow=\"autoplay; camera; microphone; clipboard-read; clipboard-write;\" frameborder=\"0\" allowfullscreen></iframe></div>"
            ]
          },
          "metadata": {}
        },
        {
          "output_type": "execute_result",
          "data": {
            "text/plain": []
          },
          "metadata": {},
          "execution_count": 22
        }
      ]
    }
  ]
}